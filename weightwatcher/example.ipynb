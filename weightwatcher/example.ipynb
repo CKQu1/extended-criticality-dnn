{
 "cells": [
  {
   "cell_type": "code",
   "execution_count": 8,
   "metadata": {},
   "outputs": [
    {
     "ename": "PermissionError",
     "evalue": "[WinError 5] Access is denied: '/project'",
     "output_type": "error",
     "traceback": [
      "\u001b[1;31m---------------------------------------------------------------------------\u001b[0m",
      "\u001b[1;31mPermissionError\u001b[0m                           Traceback (most recent call last)",
      "Cell \u001b[1;32mIn[8], line 15\u001b[0m\n\u001b[0;32m     13\u001b[0m \u001b[38;5;66;03m# path for loading the weights\u001b[39;00m\n\u001b[0;32m     14\u001b[0m main_path \u001b[38;5;241m=\u001b[39m join(root_data, \u001b[38;5;124m\"\u001b[39m\u001b[38;5;124mpretrained_workflow\u001b[39m\u001b[38;5;124m\"\u001b[39m)\n\u001b[1;32m---> 15\u001b[0m \u001b[38;5;28;01mif\u001b[39;00m \u001b[38;5;129;01mnot\u001b[39;00m os\u001b[38;5;241m.\u001b[39mpath\u001b[38;5;241m.\u001b[39misdir(main_path): os\u001b[38;5;241m.\u001b[39mmakedirs(main_path)\n\u001b[0;32m     17\u001b[0m df \u001b[38;5;241m=\u001b[39m pd\u001b[38;5;241m.\u001b[39mread_csv(join(main_path, \u001b[38;5;124m\"\u001b[39m\u001b[38;5;124mweight_info.csv\u001b[39m\u001b[38;5;124m\"\u001b[39m)) \u001b[38;5;28;01mif\u001b[39;00m pytorch \u001b[38;5;28;01melse\u001b[39;00m pd\u001b[38;5;241m.\u001b[39mread_csv(join(main_path, \u001b[38;5;124m\"\u001b[39m\u001b[38;5;124mweight_info_tf.csv\u001b[39m\u001b[38;5;124m\"\u001b[39m))\n\u001b[0;32m     18\u001b[0m weight_name \u001b[38;5;241m=\u001b[39m df\u001b[38;5;241m.\u001b[39mloc[n_weight,\u001b[38;5;124m\"\u001b[39m\u001b[38;5;124mweight_file\u001b[39m\u001b[38;5;124m\"\u001b[39m]\n",
      "File \u001b[1;32mc:\\ProgramData\\Anaconda3\\envs\\diffuser_v2\\lib\\os.py:215\u001b[0m, in \u001b[0;36mmakedirs\u001b[1;34m(name, mode, exist_ok)\u001b[0m\n\u001b[0;32m    213\u001b[0m \u001b[39mif\u001b[39;00m head \u001b[39mand\u001b[39;00m tail \u001b[39mand\u001b[39;00m \u001b[39mnot\u001b[39;00m path\u001b[39m.\u001b[39mexists(head):\n\u001b[0;32m    214\u001b[0m     \u001b[39mtry\u001b[39;00m:\n\u001b[1;32m--> 215\u001b[0m         makedirs(head, exist_ok\u001b[39m=\u001b[39;49mexist_ok)\n\u001b[0;32m    216\u001b[0m     \u001b[39mexcept\u001b[39;00m \u001b[39mFileExistsError\u001b[39;00m:\n\u001b[0;32m    217\u001b[0m         \u001b[39m# Defeats race condition when another thread created the path\u001b[39;00m\n\u001b[0;32m    218\u001b[0m         \u001b[39mpass\u001b[39;00m\n",
      "File \u001b[1;32mc:\\ProgramData\\Anaconda3\\envs\\diffuser_v2\\lib\\os.py:215\u001b[0m, in \u001b[0;36mmakedirs\u001b[1;34m(name, mode, exist_ok)\u001b[0m\n\u001b[0;32m    213\u001b[0m \u001b[39mif\u001b[39;00m head \u001b[39mand\u001b[39;00m tail \u001b[39mand\u001b[39;00m \u001b[39mnot\u001b[39;00m path\u001b[39m.\u001b[39mexists(head):\n\u001b[0;32m    214\u001b[0m     \u001b[39mtry\u001b[39;00m:\n\u001b[1;32m--> 215\u001b[0m         makedirs(head, exist_ok\u001b[39m=\u001b[39;49mexist_ok)\n\u001b[0;32m    216\u001b[0m     \u001b[39mexcept\u001b[39;00m \u001b[39mFileExistsError\u001b[39;00m:\n\u001b[0;32m    217\u001b[0m         \u001b[39m# Defeats race condition when another thread created the path\u001b[39;00m\n\u001b[0;32m    218\u001b[0m         \u001b[39mpass\u001b[39;00m\n",
      "File \u001b[1;32mc:\\ProgramData\\Anaconda3\\envs\\diffuser_v2\\lib\\os.py:215\u001b[0m, in \u001b[0;36mmakedirs\u001b[1;34m(name, mode, exist_ok)\u001b[0m\n\u001b[0;32m    213\u001b[0m \u001b[39mif\u001b[39;00m head \u001b[39mand\u001b[39;00m tail \u001b[39mand\u001b[39;00m \u001b[39mnot\u001b[39;00m path\u001b[39m.\u001b[39mexists(head):\n\u001b[0;32m    214\u001b[0m     \u001b[39mtry\u001b[39;00m:\n\u001b[1;32m--> 215\u001b[0m         makedirs(head, exist_ok\u001b[39m=\u001b[39;49mexist_ok)\n\u001b[0;32m    216\u001b[0m     \u001b[39mexcept\u001b[39;00m \u001b[39mFileExistsError\u001b[39;00m:\n\u001b[0;32m    217\u001b[0m         \u001b[39m# Defeats race condition when another thread created the path\u001b[39;00m\n\u001b[0;32m    218\u001b[0m         \u001b[39mpass\u001b[39;00m\n",
      "File \u001b[1;32mc:\\ProgramData\\Anaconda3\\envs\\diffuser_v2\\lib\\os.py:225\u001b[0m, in \u001b[0;36mmakedirs\u001b[1;34m(name, mode, exist_ok)\u001b[0m\n\u001b[0;32m    223\u001b[0m         \u001b[39mreturn\u001b[39;00m\n\u001b[0;32m    224\u001b[0m \u001b[39mtry\u001b[39;00m:\n\u001b[1;32m--> 225\u001b[0m     mkdir(name, mode)\n\u001b[0;32m    226\u001b[0m \u001b[39mexcept\u001b[39;00m \u001b[39mOSError\u001b[39;00m:\n\u001b[0;32m    227\u001b[0m     \u001b[39m# Cannot rely on checking for EEXIST, since the operating system\u001b[39;00m\n\u001b[0;32m    228\u001b[0m     \u001b[39m# could give priority to other errors like EACCES or EROFS\u001b[39;00m\n\u001b[0;32m    229\u001b[0m     \u001b[39mif\u001b[39;00m \u001b[39mnot\u001b[39;00m exist_ok \u001b[39mor\u001b[39;00m \u001b[39mnot\u001b[39;00m path\u001b[39m.\u001b[39misdir(name):\n",
      "\u001b[1;31mPermissionError\u001b[0m: [WinError 5] Access is denied: '/project'"
     ]
    }
   ],
   "source": [
    "from os.path import join\n",
    "\n",
    "from WW_powerlaw import fit_powerlaw\n",
    "\n",
    "root_data = \"/project/PDLAI/project2_data\"\n",
    "\n",
    "# load weights\n",
    "n_weight = 0\n",
    "weight_path = \"/project/PDLAI/project2_data/pretrained_workflow/np_weights_all\"\n",
    "pytorch = False if \"_tf\" in weight_path else True\n",
    "if_torch_weights = (weight_path.split(\"/\")[-1][:3] != \"np_\")\n",
    "\n",
    "# path for loading the weights\n",
    "main_path = join(root_data, \"pretrained_workflow\")\n",
    "if not os.path.isdir(main_path): os.makedirs(main_path)\n",
    "\n",
    "df = pd.read_csv(join(main_path, \"weight_info.csv\")) if pytorch else pd.read_csv(join(main_path, \"weight_info_tf.csv\"))\n",
    "weight_name = df.loc[n_weight,\"weight_file\"]\n",
    "i, wmat_idx = int(df.loc[n_weight,\"idx\"]), int(df.loc[n_weight,\"wmat_idx\"])\n",
    "model_name = df.loc[n_weight,\"model_name\"]\n",
    "\n",
    "print(f\"{n_weight}: {weight_name}\")\n",
    "\n",
    "# Powerlaw fitting ----------------------\n",
    "\n",
    "if if_torch_weights:\n",
    "    import torch\n",
    "    weights = torch.load(f\"{weight_path}/{weight_name}\")\n",
    "    weights = weights.detach().numpy()\n",
    "else:\n",
    "    weights = np.load(f\"{weight_path}/{weight_name}.npy\")"
   ]
  },
  {
   "cell_type": "code",
   "execution_count": null,
   "metadata": {},
   "outputs": [],
   "source": [
    "fit_results = fit_powerlaw(weights)"
   ]
  }
 ],
 "metadata": {
  "kernelspec": {
   "display_name": "Python 3.10.12 ('diffuser_v2')",
   "language": "python",
   "name": "python3"
  },
  "language_info": {
   "codemirror_mode": {
    "name": "ipython",
    "version": 3
   },
   "file_extension": ".py",
   "mimetype": "text/x-python",
   "name": "python",
   "nbconvert_exporter": "python",
   "pygments_lexer": "ipython3",
   "version": "3.10.12"
  },
  "orig_nbformat": 4,
  "vscode": {
   "interpreter": {
    "hash": "43495a2580e7da870e237bb5fe38fb1cfa142d97a654c188fc433368c46a80d6"
   }
  }
 },
 "nbformat": 4,
 "nbformat_minor": 2
}
